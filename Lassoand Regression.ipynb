{
 "cells": [
  {
   "cell_type": "markdown",
   "metadata": {},
   "source": [
    "## Ridge and LAsso Regression implementation"
   ]
  },
  {
   "cell_type": "code",
   "execution_count": 5,
   "metadata": {},
   "outputs": [],
   "source": [
    "from sklearn.datasets import load_boston"
   ]
  },
  {
   "cell_type": "code",
   "execution_count": 4,
   "metadata": {},
   "outputs": [],
   "source": [
    "import numpy as np\n",
    "import pandas as pd\n",
    "import matplotlib.pyplot as plt"
   ]
  },
  {
   "cell_type": "code",
   "execution_count": 6,
   "metadata": {},
   "outputs": [],
   "source": [
    "df=load_boston()"
   ]
  },
  {
   "cell_type": "code",
   "execution_count": 8,
   "metadata": {},
   "outputs": [
    {
     "data": {
      "text/plain": [
       "{'data': array([[6.3200e-03, 1.8000e+01, 2.3100e+00, ..., 1.5300e+01, 3.9690e+02,\n",
       "         4.9800e+00],\n",
       "        [2.7310e-02, 0.0000e+00, 7.0700e+00, ..., 1.7800e+01, 3.9690e+02,\n",
       "         9.1400e+00],\n",
       "        [2.7290e-02, 0.0000e+00, 7.0700e+00, ..., 1.7800e+01, 3.9283e+02,\n",
       "         4.0300e+00],\n",
       "        ...,\n",
       "        [6.0760e-02, 0.0000e+00, 1.1930e+01, ..., 2.1000e+01, 3.9690e+02,\n",
       "         5.6400e+00],\n",
       "        [1.0959e-01, 0.0000e+00, 1.1930e+01, ..., 2.1000e+01, 3.9345e+02,\n",
       "         6.4800e+00],\n",
       "        [4.7410e-02, 0.0000e+00, 1.1930e+01, ..., 2.1000e+01, 3.9690e+02,\n",
       "         7.8800e+00]]),\n",
       " 'target': array([24. , 21.6, 34.7, 33.4, 36.2, 28.7, 22.9, 27.1, 16.5, 18.9, 15. ,\n",
       "        18.9, 21.7, 20.4, 18.2, 19.9, 23.1, 17.5, 20.2, 18.2, 13.6, 19.6,\n",
       "        15.2, 14.5, 15.6, 13.9, 16.6, 14.8, 18.4, 21. , 12.7, 14.5, 13.2,\n",
       "        13.1, 13.5, 18.9, 20. , 21. , 24.7, 30.8, 34.9, 26.6, 25.3, 24.7,\n",
       "        21.2, 19.3, 20. , 16.6, 14.4, 19.4, 19.7, 20.5, 25. , 23.4, 18.9,\n",
       "        35.4, 24.7, 31.6, 23.3, 19.6, 18.7, 16. , 22.2, 25. , 33. , 23.5,\n",
       "        19.4, 22. , 17.4, 20.9, 24.2, 21.7, 22.8, 23.4, 24.1, 21.4, 20. ,\n",
       "        20.8, 21.2, 20.3, 28. , 23.9, 24.8, 22.9, 23.9, 26.6, 22.5, 22.2,\n",
       "        23.6, 28.7, 22.6, 22. , 22.9, 25. , 20.6, 28.4, 21.4, 38.7, 43.8,\n",
       "        33.2, 27.5, 26.5, 18.6, 19.3, 20.1, 19.5, 19.5, 20.4, 19.8, 19.4,\n",
       "        21.7, 22.8, 18.8, 18.7, 18.5, 18.3, 21.2, 19.2, 20.4, 19.3, 22. ,\n",
       "        20.3, 20.5, 17.3, 18.8, 21.4, 15.7, 16.2, 18. , 14.3, 19.2, 19.6,\n",
       "        23. , 18.4, 15.6, 18.1, 17.4, 17.1, 13.3, 17.8, 14. , 14.4, 13.4,\n",
       "        15.6, 11.8, 13.8, 15.6, 14.6, 17.8, 15.4, 21.5, 19.6, 15.3, 19.4,\n",
       "        17. , 15.6, 13.1, 41.3, 24.3, 23.3, 27. , 50. , 50. , 50. , 22.7,\n",
       "        25. , 50. , 23.8, 23.8, 22.3, 17.4, 19.1, 23.1, 23.6, 22.6, 29.4,\n",
       "        23.2, 24.6, 29.9, 37.2, 39.8, 36.2, 37.9, 32.5, 26.4, 29.6, 50. ,\n",
       "        32. , 29.8, 34.9, 37. , 30.5, 36.4, 31.1, 29.1, 50. , 33.3, 30.3,\n",
       "        34.6, 34.9, 32.9, 24.1, 42.3, 48.5, 50. , 22.6, 24.4, 22.5, 24.4,\n",
       "        20. , 21.7, 19.3, 22.4, 28.1, 23.7, 25. , 23.3, 28.7, 21.5, 23. ,\n",
       "        26.7, 21.7, 27.5, 30.1, 44.8, 50. , 37.6, 31.6, 46.7, 31.5, 24.3,\n",
       "        31.7, 41.7, 48.3, 29. , 24. , 25.1, 31.5, 23.7, 23.3, 22. , 20.1,\n",
       "        22.2, 23.7, 17.6, 18.5, 24.3, 20.5, 24.5, 26.2, 24.4, 24.8, 29.6,\n",
       "        42.8, 21.9, 20.9, 44. , 50. , 36. , 30.1, 33.8, 43.1, 48.8, 31. ,\n",
       "        36.5, 22.8, 30.7, 50. , 43.5, 20.7, 21.1, 25.2, 24.4, 35.2, 32.4,\n",
       "        32. , 33.2, 33.1, 29.1, 35.1, 45.4, 35.4, 46. , 50. , 32.2, 22. ,\n",
       "        20.1, 23.2, 22.3, 24.8, 28.5, 37.3, 27.9, 23.9, 21.7, 28.6, 27.1,\n",
       "        20.3, 22.5, 29. , 24.8, 22. , 26.4, 33.1, 36.1, 28.4, 33.4, 28.2,\n",
       "        22.8, 20.3, 16.1, 22.1, 19.4, 21.6, 23.8, 16.2, 17.8, 19.8, 23.1,\n",
       "        21. , 23.8, 23.1, 20.4, 18.5, 25. , 24.6, 23. , 22.2, 19.3, 22.6,\n",
       "        19.8, 17.1, 19.4, 22.2, 20.7, 21.1, 19.5, 18.5, 20.6, 19. , 18.7,\n",
       "        32.7, 16.5, 23.9, 31.2, 17.5, 17.2, 23.1, 24.5, 26.6, 22.9, 24.1,\n",
       "        18.6, 30.1, 18.2, 20.6, 17.8, 21.7, 22.7, 22.6, 25. , 19.9, 20.8,\n",
       "        16.8, 21.9, 27.5, 21.9, 23.1, 50. , 50. , 50. , 50. , 50. , 13.8,\n",
       "        13.8, 15. , 13.9, 13.3, 13.1, 10.2, 10.4, 10.9, 11.3, 12.3,  8.8,\n",
       "         7.2, 10.5,  7.4, 10.2, 11.5, 15.1, 23.2,  9.7, 13.8, 12.7, 13.1,\n",
       "        12.5,  8.5,  5. ,  6.3,  5.6,  7.2, 12.1,  8.3,  8.5,  5. , 11.9,\n",
       "        27.9, 17.2, 27.5, 15. , 17.2, 17.9, 16.3,  7. ,  7.2,  7.5, 10.4,\n",
       "         8.8,  8.4, 16.7, 14.2, 20.8, 13.4, 11.7,  8.3, 10.2, 10.9, 11. ,\n",
       "         9.5, 14.5, 14.1, 16.1, 14.3, 11.7, 13.4,  9.6,  8.7,  8.4, 12.8,\n",
       "        10.5, 17.1, 18.4, 15.4, 10.8, 11.8, 14.9, 12.6, 14.1, 13. , 13.4,\n",
       "        15.2, 16.1, 17.8, 14.9, 14.1, 12.7, 13.5, 14.9, 20. , 16.4, 17.7,\n",
       "        19.5, 20.2, 21.4, 19.9, 19. , 19.1, 19.1, 20.1, 19.9, 19.6, 23.2,\n",
       "        29.8, 13.8, 13.3, 16.7, 12. , 14.6, 21.4, 23. , 23.7, 25. , 21.8,\n",
       "        20.6, 21.2, 19.1, 20.6, 15.2,  7. ,  8.1, 13.6, 20.1, 21.8, 24.5,\n",
       "        23.1, 19.7, 18.3, 21.2, 17.5, 16.8, 22.4, 20.6, 23.9, 22. , 11.9]),\n",
       " 'feature_names': array(['CRIM', 'ZN', 'INDUS', 'CHAS', 'NOX', 'RM', 'AGE', 'DIS', 'RAD',\n",
       "        'TAX', 'PTRATIO', 'B', 'LSTAT'], dtype='<U7'),\n",
       " 'DESCR': \".. _boston_dataset:\\n\\nBoston house prices dataset\\n---------------------------\\n\\n**Data Set Characteristics:**  \\n\\n    :Number of Instances: 506 \\n\\n    :Number of Attributes: 13 numeric/categorical predictive. Median Value (attribute 14) is usually the target.\\n\\n    :Attribute Information (in order):\\n        - CRIM     per capita crime rate by town\\n        - ZN       proportion of residential land zoned for lots over 25,000 sq.ft.\\n        - INDUS    proportion of non-retail business acres per town\\n        - CHAS     Charles River dummy variable (= 1 if tract bounds river; 0 otherwise)\\n        - NOX      nitric oxides concentration (parts per 10 million)\\n        - RM       average number of rooms per dwelling\\n        - AGE      proportion of owner-occupied units built prior to 1940\\n        - DIS      weighted distances to five Boston employment centres\\n        - RAD      index of accessibility to radial highways\\n        - TAX      full-value property-tax rate per $10,000\\n        - PTRATIO  pupil-teacher ratio by town\\n        - B        1000(Bk - 0.63)^2 where Bk is the proportion of blacks by town\\n        - LSTAT    % lower status of the population\\n        - MEDV     Median value of owner-occupied homes in $1000's\\n\\n    :Missing Attribute Values: None\\n\\n    :Creator: Harrison, D. and Rubinfeld, D.L.\\n\\nThis is a copy of UCI ML housing dataset.\\nhttps://archive.ics.uci.edu/ml/machine-learning-databases/housing/\\n\\n\\nThis dataset was taken from the StatLib library which is maintained at Carnegie Mellon University.\\n\\nThe Boston house-price data of Harrison, D. and Rubinfeld, D.L. 'Hedonic\\nprices and the demand for clean air', J. Environ. Economics & Management,\\nvol.5, 81-102, 1978.   Used in Belsley, Kuh & Welsch, 'Regression diagnostics\\n...', Wiley, 1980.   N.B. Various transformations are used in the table on\\npages 244-261 of the latter.\\n\\nThe Boston house-price data has been used in many machine learning papers that address regression\\nproblems.   \\n     \\n.. topic:: References\\n\\n   - Belsley, Kuh & Welsch, 'Regression diagnostics: Identifying Influential Data and Sources of Collinearity', Wiley, 1980. 244-261.\\n   - Quinlan,R. (1993). Combining Instance-Based and Model-Based Learning. In Proceedings on the Tenth International Conference of Machine Learning, 236-243, University of Massachusetts, Amherst. Morgan Kaufmann.\\n\",\n",
       " 'filename': 'C:\\\\Users\\\\krish.naik\\\\AppData\\\\Local\\\\Continuum\\\\anaconda3\\\\envs\\\\myenv\\\\lib\\\\site-packages\\\\sklearn\\\\datasets\\\\data\\\\boston_house_prices.csv'}"
      ]
     },
     "execution_count": 8,
     "metadata": {},
     "output_type": "execute_result"
    }
   ],
   "source": [
    "df"
   ]
  },
  {
   "cell_type": "code",
   "execution_count": 10,
   "metadata": {},
   "outputs": [
    {
     "name": "stdout",
     "output_type": "stream",
     "text": [
      "        0     1     2    3      4      5     6       7    8      9     10  \\\n",
      "0  0.00632  18.0  2.31  0.0  0.538  6.575  65.2  4.0900  1.0  296.0  15.3   \n",
      "1  0.02731   0.0  7.07  0.0  0.469  6.421  78.9  4.9671  2.0  242.0  17.8   \n",
      "2  0.02729   0.0  7.07  0.0  0.469  7.185  61.1  4.9671  2.0  242.0  17.8   \n",
      "3  0.03237   0.0  2.18  0.0  0.458  6.998  45.8  6.0622  3.0  222.0  18.7   \n",
      "4  0.06905   0.0  2.18  0.0  0.458  7.147  54.2  6.0622  3.0  222.0  18.7   \n",
      "\n",
      "       11    12  \n",
      "0  396.90  4.98  \n",
      "1  396.90  9.14  \n",
      "2  392.83  4.03  \n",
      "3  394.63  2.94  \n",
      "4  396.90  5.33  \n"
     ]
    }
   ],
   "source": [
    "dataset = pd.DataFrame(df.data)\n",
    "print(dataset.head())"
   ]
  },
  {
   "cell_type": "code",
   "execution_count": 11,
   "metadata": {},
   "outputs": [],
   "source": [
    "dataset.columns=df.feature_names"
   ]
  },
  {
   "cell_type": "code",
   "execution_count": 12,
   "metadata": {},
   "outputs": [
    {
     "data": {
      "text/html": [
       "<div>\n",
       "<style scoped>\n",
       "    .dataframe tbody tr th:only-of-type {\n",
       "        vertical-align: middle;\n",
       "    }\n",
       "\n",
       "    .dataframe tbody tr th {\n",
       "        vertical-align: top;\n",
       "    }\n",
       "\n",
       "    .dataframe thead th {\n",
       "        text-align: right;\n",
       "    }\n",
       "</style>\n",
       "<table border=\"1\" class=\"dataframe\">\n",
       "  <thead>\n",
       "    <tr style=\"text-align: right;\">\n",
       "      <th></th>\n",
       "      <th>CRIM</th>\n",
       "      <th>ZN</th>\n",
       "      <th>INDUS</th>\n",
       "      <th>CHAS</th>\n",
       "      <th>NOX</th>\n",
       "      <th>RM</th>\n",
       "      <th>AGE</th>\n",
       "      <th>DIS</th>\n",
       "      <th>RAD</th>\n",
       "      <th>TAX</th>\n",
       "      <th>PTRATIO</th>\n",
       "      <th>B</th>\n",
       "      <th>LSTAT</th>\n",
       "    </tr>\n",
       "  </thead>\n",
       "  <tbody>\n",
       "    <tr>\n",
       "      <th>0</th>\n",
       "      <td>0.00632</td>\n",
       "      <td>18.0</td>\n",
       "      <td>2.31</td>\n",
       "      <td>0.0</td>\n",
       "      <td>0.538</td>\n",
       "      <td>6.575</td>\n",
       "      <td>65.2</td>\n",
       "      <td>4.0900</td>\n",
       "      <td>1.0</td>\n",
       "      <td>296.0</td>\n",
       "      <td>15.3</td>\n",
       "      <td>396.90</td>\n",
       "      <td>4.98</td>\n",
       "    </tr>\n",
       "    <tr>\n",
       "      <th>1</th>\n",
       "      <td>0.02731</td>\n",
       "      <td>0.0</td>\n",
       "      <td>7.07</td>\n",
       "      <td>0.0</td>\n",
       "      <td>0.469</td>\n",
       "      <td>6.421</td>\n",
       "      <td>78.9</td>\n",
       "      <td>4.9671</td>\n",
       "      <td>2.0</td>\n",
       "      <td>242.0</td>\n",
       "      <td>17.8</td>\n",
       "      <td>396.90</td>\n",
       "      <td>9.14</td>\n",
       "    </tr>\n",
       "    <tr>\n",
       "      <th>2</th>\n",
       "      <td>0.02729</td>\n",
       "      <td>0.0</td>\n",
       "      <td>7.07</td>\n",
       "      <td>0.0</td>\n",
       "      <td>0.469</td>\n",
       "      <td>7.185</td>\n",
       "      <td>61.1</td>\n",
       "      <td>4.9671</td>\n",
       "      <td>2.0</td>\n",
       "      <td>242.0</td>\n",
       "      <td>17.8</td>\n",
       "      <td>392.83</td>\n",
       "      <td>4.03</td>\n",
       "    </tr>\n",
       "    <tr>\n",
       "      <th>3</th>\n",
       "      <td>0.03237</td>\n",
       "      <td>0.0</td>\n",
       "      <td>2.18</td>\n",
       "      <td>0.0</td>\n",
       "      <td>0.458</td>\n",
       "      <td>6.998</td>\n",
       "      <td>45.8</td>\n",
       "      <td>6.0622</td>\n",
       "      <td>3.0</td>\n",
       "      <td>222.0</td>\n",
       "      <td>18.7</td>\n",
       "      <td>394.63</td>\n",
       "      <td>2.94</td>\n",
       "    </tr>\n",
       "    <tr>\n",
       "      <th>4</th>\n",
       "      <td>0.06905</td>\n",
       "      <td>0.0</td>\n",
       "      <td>2.18</td>\n",
       "      <td>0.0</td>\n",
       "      <td>0.458</td>\n",
       "      <td>7.147</td>\n",
       "      <td>54.2</td>\n",
       "      <td>6.0622</td>\n",
       "      <td>3.0</td>\n",
       "      <td>222.0</td>\n",
       "      <td>18.7</td>\n",
       "      <td>396.90</td>\n",
       "      <td>5.33</td>\n",
       "    </tr>\n",
       "  </tbody>\n",
       "</table>\n",
       "</div>"
      ],
      "text/plain": [
       "      CRIM    ZN  INDUS  CHAS    NOX     RM   AGE     DIS  RAD    TAX  \\\n",
       "0  0.00632  18.0   2.31   0.0  0.538  6.575  65.2  4.0900  1.0  296.0   \n",
       "1  0.02731   0.0   7.07   0.0  0.469  6.421  78.9  4.9671  2.0  242.0   \n",
       "2  0.02729   0.0   7.07   0.0  0.469  7.185  61.1  4.9671  2.0  242.0   \n",
       "3  0.03237   0.0   2.18   0.0  0.458  6.998  45.8  6.0622  3.0  222.0   \n",
       "4  0.06905   0.0   2.18   0.0  0.458  7.147  54.2  6.0622  3.0  222.0   \n",
       "\n",
       "   PTRATIO       B  LSTAT  \n",
       "0     15.3  396.90   4.98  \n",
       "1     17.8  396.90   9.14  \n",
       "2     17.8  392.83   4.03  \n",
       "3     18.7  394.63   2.94  \n",
       "4     18.7  396.90   5.33  "
      ]
     },
     "execution_count": 12,
     "metadata": {},
     "output_type": "execute_result"
    }
   ],
   "source": [
    "dataset.head()"
   ]
  },
  {
   "cell_type": "code",
   "execution_count": 13,
   "metadata": {},
   "outputs": [
    {
     "data": {
      "text/plain": [
       "(506,)"
      ]
     },
     "execution_count": 13,
     "metadata": {},
     "output_type": "execute_result"
    }
   ],
   "source": [
    "df.target.shape"
   ]
  },
  {
   "cell_type": "code",
   "execution_count": 15,
   "metadata": {},
   "outputs": [],
   "source": [
    "dataset[\"Price\"]=df.target"
   ]
  },
  {
   "cell_type": "code",
   "execution_count": 16,
   "metadata": {},
   "outputs": [
    {
     "data": {
      "text/html": [
       "<div>\n",
       "<style scoped>\n",
       "    .dataframe tbody tr th:only-of-type {\n",
       "        vertical-align: middle;\n",
       "    }\n",
       "\n",
       "    .dataframe tbody tr th {\n",
       "        vertical-align: top;\n",
       "    }\n",
       "\n",
       "    .dataframe thead th {\n",
       "        text-align: right;\n",
       "    }\n",
       "</style>\n",
       "<table border=\"1\" class=\"dataframe\">\n",
       "  <thead>\n",
       "    <tr style=\"text-align: right;\">\n",
       "      <th></th>\n",
       "      <th>CRIM</th>\n",
       "      <th>ZN</th>\n",
       "      <th>INDUS</th>\n",
       "      <th>CHAS</th>\n",
       "      <th>NOX</th>\n",
       "      <th>RM</th>\n",
       "      <th>AGE</th>\n",
       "      <th>DIS</th>\n",
       "      <th>RAD</th>\n",
       "      <th>TAX</th>\n",
       "      <th>PTRATIO</th>\n",
       "      <th>B</th>\n",
       "      <th>LSTAT</th>\n",
       "      <th>Price</th>\n",
       "    </tr>\n",
       "  </thead>\n",
       "  <tbody>\n",
       "    <tr>\n",
       "      <th>0</th>\n",
       "      <td>0.00632</td>\n",
       "      <td>18.0</td>\n",
       "      <td>2.31</td>\n",
       "      <td>0.0</td>\n",
       "      <td>0.538</td>\n",
       "      <td>6.575</td>\n",
       "      <td>65.2</td>\n",
       "      <td>4.0900</td>\n",
       "      <td>1.0</td>\n",
       "      <td>296.0</td>\n",
       "      <td>15.3</td>\n",
       "      <td>396.90</td>\n",
       "      <td>4.98</td>\n",
       "      <td>24.0</td>\n",
       "    </tr>\n",
       "    <tr>\n",
       "      <th>1</th>\n",
       "      <td>0.02731</td>\n",
       "      <td>0.0</td>\n",
       "      <td>7.07</td>\n",
       "      <td>0.0</td>\n",
       "      <td>0.469</td>\n",
       "      <td>6.421</td>\n",
       "      <td>78.9</td>\n",
       "      <td>4.9671</td>\n",
       "      <td>2.0</td>\n",
       "      <td>242.0</td>\n",
       "      <td>17.8</td>\n",
       "      <td>396.90</td>\n",
       "      <td>9.14</td>\n",
       "      <td>21.6</td>\n",
       "    </tr>\n",
       "    <tr>\n",
       "      <th>2</th>\n",
       "      <td>0.02729</td>\n",
       "      <td>0.0</td>\n",
       "      <td>7.07</td>\n",
       "      <td>0.0</td>\n",
       "      <td>0.469</td>\n",
       "      <td>7.185</td>\n",
       "      <td>61.1</td>\n",
       "      <td>4.9671</td>\n",
       "      <td>2.0</td>\n",
       "      <td>242.0</td>\n",
       "      <td>17.8</td>\n",
       "      <td>392.83</td>\n",
       "      <td>4.03</td>\n",
       "      <td>34.7</td>\n",
       "    </tr>\n",
       "    <tr>\n",
       "      <th>3</th>\n",
       "      <td>0.03237</td>\n",
       "      <td>0.0</td>\n",
       "      <td>2.18</td>\n",
       "      <td>0.0</td>\n",
       "      <td>0.458</td>\n",
       "      <td>6.998</td>\n",
       "      <td>45.8</td>\n",
       "      <td>6.0622</td>\n",
       "      <td>3.0</td>\n",
       "      <td>222.0</td>\n",
       "      <td>18.7</td>\n",
       "      <td>394.63</td>\n",
       "      <td>2.94</td>\n",
       "      <td>33.4</td>\n",
       "    </tr>\n",
       "    <tr>\n",
       "      <th>4</th>\n",
       "      <td>0.06905</td>\n",
       "      <td>0.0</td>\n",
       "      <td>2.18</td>\n",
       "      <td>0.0</td>\n",
       "      <td>0.458</td>\n",
       "      <td>7.147</td>\n",
       "      <td>54.2</td>\n",
       "      <td>6.0622</td>\n",
       "      <td>3.0</td>\n",
       "      <td>222.0</td>\n",
       "      <td>18.7</td>\n",
       "      <td>396.90</td>\n",
       "      <td>5.33</td>\n",
       "      <td>36.2</td>\n",
       "    </tr>\n",
       "  </tbody>\n",
       "</table>\n",
       "</div>"
      ],
      "text/plain": [
       "      CRIM    ZN  INDUS  CHAS    NOX     RM   AGE     DIS  RAD    TAX  \\\n",
       "0  0.00632  18.0   2.31   0.0  0.538  6.575  65.2  4.0900  1.0  296.0   \n",
       "1  0.02731   0.0   7.07   0.0  0.469  6.421  78.9  4.9671  2.0  242.0   \n",
       "2  0.02729   0.0   7.07   0.0  0.469  7.185  61.1  4.9671  2.0  242.0   \n",
       "3  0.03237   0.0   2.18   0.0  0.458  6.998  45.8  6.0622  3.0  222.0   \n",
       "4  0.06905   0.0   2.18   0.0  0.458  7.147  54.2  6.0622  3.0  222.0   \n",
       "\n",
       "   PTRATIO       B  LSTAT  Price  \n",
       "0     15.3  396.90   4.98   24.0  \n",
       "1     17.8  396.90   9.14   21.6  \n",
       "2     17.8  392.83   4.03   34.7  \n",
       "3     18.7  394.63   2.94   33.4  \n",
       "4     18.7  396.90   5.33   36.2  "
      ]
     },
     "execution_count": 16,
     "metadata": {},
     "output_type": "execute_result"
    }
   ],
   "source": [
    "dataset.head()"
   ]
  },
  {
   "cell_type": "code",
   "execution_count": 18,
   "metadata": {},
   "outputs": [],
   "source": [
    "X=dataset.iloc[:,:-1] ## independent features\n",
    "y=dataset.iloc[:,-1] ## dependent features"
   ]
  },
  {
   "cell_type": "markdown",
   "metadata": {},
   "source": [
    "## Linear Regression\n"
   ]
  },
  {
   "cell_type": "code",
   "execution_count": 19,
   "metadata": {},
   "outputs": [
    {
     "name": "stderr",
     "output_type": "stream",
     "text": [
      "C:\\Users\\krish.naik\\AppData\\Local\\Continuum\\anaconda3\\envs\\myenv\\lib\\importlib\\_bootstrap.py:219: RuntimeWarning: numpy.ufunc size changed, may indicate binary incompatibility. Expected 192 from C header, got 216 from PyObject\n",
      "  return f(*args, **kwds)\n"
     ]
    },
    {
     "name": "stdout",
     "output_type": "stream",
     "text": [
      "-37.131807467699204\n"
     ]
    }
   ],
   "source": [
    "from sklearn.model_selection import cross_val_score\n",
    "from sklearn.linear_model import LinearRegression\n",
    "\n",
    "lin_regressor=LinearRegression()\n",
    "mse=cross_val_score(lin_regressor,X,y,scoring='neg_mean_squared_error',cv=5)\n",
    "mean_mse=np.mean(mse)\n",
    "print(mean_mse)"
   ]
  },
  {
   "cell_type": "markdown",
   "metadata": {},
   "source": [
    "## Ridge Regression"
   ]
  },
  {
   "cell_type": "code",
   "execution_count": 22,
   "metadata": {},
   "outputs": [
    {
     "data": {
      "text/plain": [
       "GridSearchCV(cv=5, error_score='raise-deprecating',\n",
       "We can also use RidgeCV(alphas = []) and this will not generate any OS error"
       "       estimator=Ridge(alpha=1.0, copy_X=True, fit_intercept=True, max_iter=None,\n",
       "   normalize=False, random_state=None, solver='auto', tol=0.001),\n",
       "       fit_params=None, iid='warn', n_jobs=None,\n",
       "       param_grid={'alpha': [1e-15, 1e-10, 1e-08, 0.001, 0.01, 1, 5, 10, 20, 30, 35, 40, 45, 50, 55, 100]},\n",
       "       pre_dispatch='2*n_jobs', refit=True, return_train_score='warn',\n",
       "       scoring='neg_mean_squared_error', verbose=0)"
      ]
     },
     "execution_count": 22,
     "metadata": {},
     "output_type": "execute_result"
    }
   ],
   "source": [
    "from sklearn.linear_model import Ridge\n",
    "from sklearn.model_selection import GridSearchCV\n",
    "\n",
    "ridge=Ridge()\n",
    "parameters={'alpha':[1e-15,1e-10,1e-8,1e-3,1e-2,1,5,10,20,30,35,40,45,50,55,100]}\n",
    "ridge_regressor=GridSearchCV(ridge,parameters,scoring='neg_mean_squared_error',cv=5)\n",
    "ridge_regressor.fit(X,y)"
   ]
  },
  {
   "cell_type": "code",
   "execution_count": 23,
   "metadata": {},
   "outputs": [
    {
     "name": "stdout",
     "output_type": "stream",
     "text": [
      "{'alpha': 100}\n",
      "-29.871945115432595\n"
     ]
    }
   ],
   "source": [
    "print(ridge_regressor.best_params_)\n",
    "print(ridge_regressor.best_score_)"
   ]
  },
  {
   "cell_type": "markdown",
   "metadata": {},
   "source": [
    "## Lasso Regression"
   ]
  },
  {
   "cell_type": "code",
   "execution_count": 24,
   "metadata": {},
   "outputs": [
    {
     "name": "stderr",
     "output_type": "stream",
     "text": [
      "C:\\Users\\krish.naik\\AppData\\Local\\Continuum\\anaconda3\\envs\\myenv\\lib\\site-packages\\sklearn\\linear_model\\coordinate_descent.py:492: ConvergenceWarning: Objective did not converge. You might want to increase the number of iterations. Fitting data with very small alpha may cause precision problems.\n",
      "  ConvergenceWarning)\n",
      "C:\\Users\\krish.naik\\AppData\\Local\\Continuum\\anaconda3\\envs\\myenv\\lib\\site-packages\\sklearn\\linear_model\\coordinate_descent.py:492: ConvergenceWarning: Objective did not converge. You might want to increase the number of iterations. Fitting data with very small alpha may cause precision problems.\n",
      "  ConvergenceWarning)\n",
      "C:\\Users\\krish.naik\\AppData\\Local\\Continuum\\anaconda3\\envs\\myenv\\lib\\site-packages\\sklearn\\linear_model\\coordinate_descent.py:492: ConvergenceWarning: Objective did not converge. You might want to increase the number of iterations. Fitting data with very small alpha may cause precision problems.\n",
      "  ConvergenceWarning)\n",
      "C:\\Users\\krish.naik\\AppData\\Local\\Continuum\\anaconda3\\envs\\myenv\\lib\\site-packages\\sklearn\\linear_model\\coordinate_descent.py:492: ConvergenceWarning: Objective did not converge. You might want to increase the number of iterations. Fitting data with very small alpha may cause precision problems.\n",
      "  ConvergenceWarning)\n",
      "C:\\Users\\krish.naik\\AppData\\Local\\Continuum\\anaconda3\\envs\\myenv\\lib\\site-packages\\sklearn\\linear_model\\coordinate_descent.py:492: ConvergenceWarning: Objective did not converge. You might want to increase the number of iterations. Fitting data with very small alpha may cause precision problems.\n",
      "  ConvergenceWarning)\n"
     ]
    },
    {
     "name": "stdout",
     "output_type": "stream",
     "text": [
      "{'alpha': 1}\n",
      "-35.491283263627096\n"
     ]
    }
   ],
   "source": [
    "from sklearn.linear_model import Lasso\n",
    "from sklearn.model_selection import GridSearchCV\n",
    "lasso=Lasso()\n",
    "parameters={'alpha':[1e-15,1e-10,1e-8,1e-3,1e-2,1,5,10,20,30,35,40,45,50,55,100]}\n",
    "lasso_regressor=GridSearchCV(lasso,parameters,scoring='neg_mean_squared_error',cv=5)\n",
    "\n",
    "lasso_regressor.fit(X,y)\n",
    "print(lasso_regressor.best_params_)\n",
    "print(lasso_regressor.best_score_)"
   ]
  },
  {
   "cell_type": "code",
   "execution_count": 25,
   "metadata": {},
   "outputs": [],
   "source": [
    "from sklearn.model_selection import train_test_split\n",
    "X_train, X_test, y_train, y_test = train_test_split(X, y, test_size=0.3, random_state=0)"
   ]
  },
  {
   "cell_type": "code",
   "execution_count": 26,
   "metadata": {},
   "outputs": [],
   "source": [
    "prediction_lasso=lasso_regressor.predict(X_test)\n",
    "prediction_ridge=ridge_regressor.predict(X_test)"
   ]
  },
  {
   "cell_type": "code",
   "execution_count": 28,
   "metadata": {},
   "outputs": [
    {
     "name": "stderr",
     "output_type": "stream",
     "text": [
      "C:\\Users\\krish.naik\\AppData\\Local\\Continuum\\anaconda3\\envs\\myenv\\lib\\site-packages\\scipy\\stats\\stats.py:1713: FutureWarning: Using a non-tuple sequence for multidimensional indexing is deprecated; use `arr[tuple(seq)]` instead of `arr[seq]`. In the future this will be interpreted as an array index, `arr[np.array(seq)]`, which will result either in an error or a different result.\n",
      "  return np.add.reduce(sorted[indexer] * weights, axis=axis) / sumval\n"
     ]
    },
    {
     "data": {
      "text/plain": [
       "<matplotlib.axes._subplots.AxesSubplot at 0x1b4bf5736a0>"
      ]
     },
     "execution_count": 28,
     "metadata": {},
     "output_type": "execute_result"
    },
    {
     "data": {
      "image/png": "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\n",
      "text/plain": [
       "<Figure size 432x288 with 1 Axes>"
      ]
     },
     "metadata": {
      "needs_background": "light"
     },
     "output_type": "display_data"
    }
   ],
   "source": [
    "import seaborn as sns\n",
    "\n",
    "sns.distplot(y_test-prediction_lasso)"
   ]
  },
  {
   "cell_type": "code",
   "execution_count": 29,
   "metadata": {},
   "outputs": [
    {
     "data": {
      "text/plain": [
       "<matplotlib.axes._subplots.AxesSubplot at 0x1b4bf777240>"
      ]
     },
     "execution_count": 29,
     "metadata": {},
     "output_type": "execute_result"
    },
    {
     "data": {
      "image/png": "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\n",
      "text/plain": [
       "<Figure size 432x288 with 1 Axes>"
      ]
     },
     "metadata": {
      "needs_background": "light"
     },
     "output_type": "display_data"
    }
   ],
   "source": [
    "import seaborn as sns\n",
    "\n",
    "sns.distplot(y_test-prediction_ridge)"
   ]
  },
  {
   "cell_type": "code",
   "execution_count": null,
   "metadata": {},
   "outputs": [],
   "source": []
  }
 ],
 "metadata": {
  "kernelspec": {
   "display_name": "Python 3",
   "language": "python",
   "name": "python3"
  },
  "language_info": {
   "codemirror_mode": {
    "name": "ipython",
    "version": 3
   },
   "file_extension": ".py",
   "mimetype": "text/x-python",
   "name": "python",
   "nbconvert_exporter": "python",
   "pygments_lexer": "ipython3",
   "version": "3.6.7"
  }
 },
 "nbformat": 4,
 "nbformat_minor": 2
}
